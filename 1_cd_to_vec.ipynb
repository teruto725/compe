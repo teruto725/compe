{
  "nbformat": 4,
  "nbformat_minor": 0,
  "metadata": {
    "colab": {
      "name": "1.cd_to_vec.ipynb",
      "provenance": [],
      "authorship_tag": "ABX9TyMHviQlGaKdCsY/rE3qemuR",
      "include_colab_link": true
    },
    "kernelspec": {
      "name": "python3",
      "display_name": "Python 3"
    }
  },
  "cells": [
    {
      "cell_type": "markdown",
      "metadata": {
        "id": "view-in-github",
        "colab_type": "text"
      },
      "source": [
        "<a href=\"https://colab.research.google.com/github/teruto725/compe/blob/main/1_cd_to_vec.ipynb\" target=\"_parent\"><img src=\"https://colab.research.google.com/assets/colab-badge.svg\" alt=\"Open In Colab\"/></a>"
      ]
    },
    {
      "cell_type": "code",
      "metadata": {
        "id": "kkY6V_OvmSAy",
        "outputId": "def5933c-c652-4b6a-935a-9352bca643e6",
        "colab": {
          "base_uri": "https://localhost:8080/"
        }
      },
      "source": [
        "#mount my google drive\n",
        "from google.colab import drive\n",
        "drive.mount('/content/drive')"
      ],
      "execution_count": 20,
      "outputs": [
        {
          "output_type": "stream",
          "text": [
            "Drive already mounted at /content/drive; to attempt to forcibly remount, call drive.mount(\"/content/drive\", force_remount=True).\n"
          ],
          "name": "stdout"
        }
      ]
    },
    {
      "cell_type": "code",
      "metadata": {
        "id": "j8Dtu8jfnGvp",
        "outputId": "3e0b1f91-202e-45bc-93c0-eaa27d52ed36",
        "colab": {
          "base_uri": "https://localhost:8080/",
          "height": 35
        }
      },
      "source": [
        "\"\"\"\n",
        "cdsをベクトル化する\n",
        "0.alldataを受け取る\n",
        "1.add_cd_vec.csvを出力する\n",
        "\"\"\""
      ],
      "execution_count": 21,
      "outputs": [
        {
          "output_type": "execute_result",
          "data": {
            "application/vnd.google.colaboratory.intrinsic+json": {
              "type": "string"
            },
            "text/plain": [
              "'\\ncdsをベクトル化する\\n0.alldataを受け取る\\n1.add_cd_vec.csvを出力する\\n'"
            ]
          },
          "metadata": {
            "tags": []
          },
          "execution_count": 21
        }
      ]
    },
    {
      "cell_type": "code",
      "metadata": {
        "id": "2c_Aj9qanK0I"
      },
      "source": [
        "import numpy as np\n",
        "import pandas as pd\n",
        "from sklearn.feature_extraction.text import CountVectorizer"
      ],
      "execution_count": 22,
      "outputs": []
    },
    {
      "cell_type": "code",
      "metadata": {
        "id": "wKuHWDXPnt8_"
      },
      "source": [
        "#data = pd.read_csv(\"drive/My Drive/data/0.alldata.csv\", index_col=0)\n",
        "data = pd.read_csv(\"drive/My Drive/data/0.alldata_test.csv\", index_col=0)\n",
        "ori_data = data"
      ],
      "execution_count": 23,
      "outputs": []
    },
    {
      "cell_type": "code",
      "metadata": {
        "id": "G-7W7p07nO2g"
      },
      "source": [
        "data = data.loc[:,[\"groupcd1\",\"groupcd2\",\"groupcd3\",\"groupcd4\",\"groupcd5\"]]"
      ],
      "execution_count": 24,
      "outputs": []
    },
    {
      "cell_type": "code",
      "metadata": {
        "id": "g3cHcgpPnSHr"
      },
      "source": [
        "from sklearn.feature_extraction.text import CountVectorizer\n",
        "data[\"cds\"] = data['groupcd1']+ \" \"+data['groupcd2'] +\" \"+data['groupcd3']+\" \"+data['groupcd4']+\" \"+data['groupcd5']\n",
        "data[\"cds\"] = data.fillna(\"None\")"
      ],
      "execution_count": 25,
      "outputs": []
    },
    {
      "cell_type": "code",
      "metadata": {
        "id": "vxII2avHoDob"
      },
      "source": [
        "#カウント\n",
        "vc = CountVectorizer()\n",
        "X = vc.fit_transform(data[\"cds\"].values)"
      ],
      "execution_count": 26,
      "outputs": []
    },
    {
      "cell_type": "code",
      "metadata": {
        "id": "GBX9FgvQoFEM"
      },
      "source": [
        "data[\"cds\"] = X"
      ],
      "execution_count": 27,
      "outputs": []
    },
    {
      "cell_type": "code",
      "metadata": {
        "id": "B_E2aGPtoGl1"
      },
      "source": [
        "ori_data = pd.concat([ori_data, data[\"cds\"]], axis=1)"
      ],
      "execution_count": 28,
      "outputs": []
    },
    {
      "cell_type": "code",
      "metadata": {
        "id": "vz52dXL6oGni",
        "outputId": "69534848-9d71-44dc-bef3-0b60e47a61dd",
        "colab": {
          "base_uri": "https://localhost:8080/"
        }
      },
      "source": [
        "np.shape(ori_data)"
      ],
      "execution_count": 29,
      "outputs": [
        {
          "output_type": "execute_result",
          "data": {
            "text/plain": [
              "(5898, 19)"
            ]
          },
          "metadata": {
            "tags": []
          },
          "execution_count": 29
        }
      ]
    },
    {
      "cell_type": "code",
      "metadata": {
        "id": "nEO03p0ZoJpr",
        "outputId": "37391cb6-7bd8-49d4-a40e-96c27afd0ba0",
        "colab": {
          "base_uri": "https://localhost:8080/"
        }
      },
      "source": [
        "ori_data.columns"
      ],
      "execution_count": 30,
      "outputs": [
        {
          "output_type": "execute_result",
          "data": {
            "text/plain": [
              "Index(['photo', 'firstcreated', 'updatedate', 'delete_flag', 'groupcd1',\n",
              "       'groupcd2', 'groupcd3', 'groupcd4', 'groupcd5', 'kiji', 'midashi',\n",
              "       'f_date', 'youbi', 'f_timezone', 'f_time', 'u_timezone', 'u_time',\n",
              "       'time_form_update', 'cds'],\n",
              "      dtype='object')"
            ]
          },
          "metadata": {
            "tags": []
          },
          "execution_count": 30
        }
      ]
    },
    {
      "cell_type": "code",
      "metadata": {
        "id": "Gyybt3-voJsq"
      },
      "source": [
        "ori_data = ori_data.drop(columns=[\"groupcd1\",\"groupcd2\",\"groupcd3\",\"groupcd4\",\"groupcd5\",\"firstcreated\",\"updatedate\"], axis=1)\n"
      ],
      "execution_count": 31,
      "outputs": []
    },
    {
      "cell_type": "code",
      "metadata": {
        "id": "p-qaqLC1oJv1"
      },
      "source": [
        "ori_data"
      ],
      "execution_count": null,
      "outputs": []
    },
    {
      "cell_type": "code",
      "metadata": {
        "id": "KPVCFmSfoJy7"
      },
      "source": [
        "#ori_data.to_csv(\"drive/My Drive/data/1.add_cd_vec.csv\")\n",
        "#ori_data.to_csv(\"drive/My Drive/data/1.add_cd_vec_test.csv\")"
      ],
      "execution_count": null,
      "outputs": []
    },
    {
      "cell_type": "code",
      "metadata": {
        "id": "JzBa03_CoJ19"
      },
      "source": [
        ""
      ],
      "execution_count": null,
      "outputs": []
    },
    {
      "cell_type": "code",
      "metadata": {
        "id": "F6dZiPLHoJ5F"
      },
      "source": [
        ""
      ],
      "execution_count": null,
      "outputs": []
    },
    {
      "cell_type": "code",
      "metadata": {
        "id": "U9kBAfBVoJ8N"
      },
      "source": [
        ""
      ],
      "execution_count": null,
      "outputs": []
    },
    {
      "cell_type": "code",
      "metadata": {
        "id": "xSdSVFaRoJ_b"
      },
      "source": [
        ""
      ],
      "execution_count": null,
      "outputs": []
    },
    {
      "cell_type": "code",
      "metadata": {
        "id": "9GRkUtYroKCu"
      },
      "source": [
        ""
      ],
      "execution_count": null,
      "outputs": []
    },
    {
      "cell_type": "code",
      "metadata": {
        "id": "3nqx7sHooKF3"
      },
      "source": [
        ""
      ],
      "execution_count": null,
      "outputs": []
    },
    {
      "cell_type": "code",
      "metadata": {
        "id": "jg0dOQ76oKJB"
      },
      "source": [
        ""
      ],
      "execution_count": null,
      "outputs": []
    }
  ]
}