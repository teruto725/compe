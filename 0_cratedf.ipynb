{
  "nbformat": 4,
  "nbformat_minor": 0,
  "metadata": {
    "colab": {
      "name": "0.cratedf.ipynb",
      "provenance": [],
      "authorship_tag": "ABX9TyPaiK9g+WDKkIh8xSy0s8RJ",
      "include_colab_link": true
    },
    "kernelspec": {
      "name": "python3",
      "display_name": "Python 3"
    },
    "accelerator": "GPU"
  },
  "cells": [
    {
      "cell_type": "markdown",
      "metadata": {
        "id": "view-in-github",
        "colab_type": "text"
      },
      "source": [
        "<a href=\"https://colab.research.google.com/github/teruto725/compe/blob/main/0_cratedf.ipynb\" target=\"_parent\"><img src=\"https://colab.research.google.com/assets/colab-badge.svg\" alt=\"Open In Colab\"/></a>"
      ]
    },
    {
      "cell_type": "code",
      "metadata": {
        "id": "pbUqGSlbkvI9",
        "outputId": "d3c3c27d-e4f5-44d5-bdc3-a8a951ead2ea",
        "colab": {
          "base_uri": "https://localhost:8080/"
        }
      },
      "source": [
        "#mount my google drive\n",
        "from google.colab import drive\n",
        "drive.mount('/content/drive')"
      ],
      "execution_count": null,
      "outputs": [
        {
          "output_type": "stream",
          "text": [
            "Drive already mounted at /content/drive; to attempt to forcibly remount, call drive.mount(\"/content/drive\", force_remount=True).\n"
          ],
          "name": "stdout"
        }
      ]
    },
    {
      "cell_type": "code",
      "metadata": {
        "id": "niaIVEgtk1Gk"
      },
      "source": [
        "import json\n",
        "import pandas as pd\n",
        "data = None\n",
        "with open('drive/My Drive/data/output_dist.json', 'r') as f:\n",
        "  for line in f:\n",
        "    temp_json = json.loads(line)\n",
        "    if data is None:\n",
        "        data = pd.DataFrame.from_dict(temp_json, orient='index').T\n",
        "        continue\n",
        "    data = data.append(pd.DataFrame.from_dict(temp_json, orient='index').T)\n",
        "\n",
        "\n",
        "data = data.reset_index()"
      ],
      "execution_count": null,
      "outputs": []
    },
    {
      "cell_type": "code",
      "metadata": {
        "id": "i2c8uikfls-d"
      },
      "source": [
        "import numpy as np\n",
        "data.to_csv(\"drive/My Drive/data/0.alldata.csv\")\n",
        "data = pd.read_csv(\"drive/My Drive/data/0.alldata.csv\")\n",
        "data = data.loc[:,[\"photo\",\"firstcreated\",\"updatedate\",\"delete_flag\",\"groupcd1\",\"groupcd2\",\"groupcd3\",\"groupcd4\",\"groupcd5\",\"pv_tw\",\"kiji\",\"midashi\"]]\n",
        "#写真はあるかないかの二値\n",
        "data.loc[:,\"photo\"] = data.loc[:,\"photo\"].isnull()\n",
        "#日付系の処理 クリエイトから\n",
        "timezone = { \"morning\":  [6,7,8,9,10], \"noon\" : [11,12,13,14], \"evening\" : [15,16,17,18,19], \"night\":[20,21,22,23,24,0,1,2,3,4,5] } \n",
        "def get_timezone(time):\n",
        "    for k,v in timezone.items():\n",
        "        if time in v:\n",
        "            return k\n",
        "    print(\"error\")\n",
        "import datetime\n",
        "def dates(data):\n",
        "    for i,row in data.iterrows():\n",
        "        fstr = str(row.loc[\"firstcreated\"])\n",
        "        ustr = str(row.loc[\"updatedate\"])\n",
        "        f_date = datetime.date(int(fstr[0:4]), int(fstr[4:6]), int(fstr[6:8]))\n",
        "        f_time = int(fstr[8:10])\n",
        "        #u_date = datetime.date(int(ustr[0:4]), int(ustr[4:6]), int(ustr[6:8]))\n",
        "        u_time = int(ustr[8:10])\n",
        "        data.loc[i,\"f_date\"] = int(fstr[0:8])\n",
        "        data.loc[i,\"youbi\"] = f_date.weekday()#0が月曜日で6が日曜日\n",
        "        data.loc[i,\"f_timezone\"] = get_timezone(f_time)\n",
        "        data.loc[i,\"f_time\"] = f_time\n",
        "        data.loc[i,\"u_timezone\"] = get_timezone(u_time)\n",
        "        data.loc[i,\"u_time\"] = u_time\n",
        "        data.loc[i,\"time_form_update\"] = int( abs(u_time-f_time))\n",
        "    return data\n",
        "data = dates(data)\n",
        "data.to_csv(\"drive/My Drive/data/0.alldata.csv\")"
      ],
      "execution_count": null,
      "outputs": []
    },
    {
      "cell_type": "code",
      "metadata": {
        "id": "gIlFL08RlDGk"
      },
      "source": [
        "\n",
        "data = None\n",
        "with open('drive/My Drive/data/output_test.json', 'r') as f:\n",
        "  for line in f:\n",
        "    temp_json = json.loads(line)\n",
        "    if data is None:\n",
        "        data = pd.DataFrame.from_dict(temp_json, orient='index').T\n",
        "        continue\n",
        "    data = data.append(pd.DataFrame.from_dict(temp_json, orient='index').T)\n",
        "\n",
        "\n",
        "data = data.reset_index()\n",
        "data = data.loc[:,[\"photo\",\"firstcreated\",\"updatedate\",\"delete_flag\",\"groupcd1\",\"groupcd2\",\"groupcd3\",\"groupcd4\",\"groupcd5\",\"kiji\",\"midashi\"]]\n",
        "#写真はあるかないかの二値\n",
        "data.loc[:,\"photo\"] = data.loc[:,\"photo\"].isnull()\n",
        "#日付系の処理 クリエイトから\n",
        "timezone = { \"morning\":  [6,7,8,9,10], \"noon\" : [11,12,13,14], \"evening\" : [15,16,17,18,19], \"night\":[20,21,22,23,24,0,1,2,3,4,5] } \n",
        "def get_timezone(time):\n",
        "    for k,v in timezone.items():\n",
        "        if time in v:\n",
        "            return k\n",
        "    print(\"error\")\n",
        "import datetime\n",
        "def dates(data):\n",
        "    for i,row in data.iterrows():\n",
        "        fstr = str(row.loc[\"firstcreated\"])\n",
        "        ustr = str(row.loc[\"updatedate\"])\n",
        "        f_date = datetime.date(int(fstr[0:4]), int(fstr[4:6]), int(fstr[6:8]))\n",
        "        f_time = int(fstr[8:10])\n",
        "        #u_date = datetime.date(int(ustr[0:4]), int(ustr[4:6]), int(ustr[6:8]))\n",
        "        u_time = int(ustr[8:10])\n",
        "        data.loc[i,\"f_date\"] = int(fstr[0:8])\n",
        "        data.loc[i,\"youbi\"] = f_date.weekday()#0が月曜日で6が日曜日\n",
        "        data.loc[i,\"f_timezone\"] = get_timezone(f_time)\n",
        "        data.loc[i,\"f_time\"] = f_time\n",
        "        data.loc[i,\"u_timezone\"] = get_timezone(u_time)\n",
        "        data.loc[i,\"u_time\"] = u_time\n",
        "        data.loc[i,\"time_form_update\"] = int( abs(u_time-f_time))\n",
        "    return data\n",
        "data = dates(data)\n",
        "data.to_csv(\"drive/My Drive/data/0.alldata_test.csv\")"
      ],
      "execution_count": null,
      "outputs": []
    },
    {
      "cell_type": "code",
      "metadata": {
        "id": "UI6lYxdclmnj"
      },
      "source": [
        ""
      ],
      "execution_count": null,
      "outputs": []
    }
  ]
}